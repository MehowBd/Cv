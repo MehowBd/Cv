{
 "cells": [
  {
   "cell_type": "code",
   "execution_count": 22,
   "metadata": {},
   "outputs": [
    {
     "name": "stdout",
     "output_type": "stream",
     "text": [
      "(60000, 28, 28)\n"
     ]
    }
   ],
   "source": [
    "import numpy as np\n",
    "from keras.datasets import mnist\n",
    "import keras\n",
    "from keras import layers\n",
    "from sklearn.metrics import classification_report, confusion_matrix\n",
    "\n",
    "training_set, test_set = mnist.load_data()\n",
    "\n",
    "X_train, y_train = training_set\n",
    "X_test, y_test = test_set\n",
    "\n",
    "print(X_train.shape)"
   ]
  },
  {
   "cell_type": "code",
   "execution_count": 23,
   "metadata": {},
   "outputs": [
    {
     "name": "stdout",
     "output_type": "stream",
     "text": [
      "(60000, 28, 28, 1)\n"
     ]
    }
   ],
   "source": [
    "X_train = np.expand_dims(X_train, -1)\n",
    "X_test = np.expand_dims(X_test, -1)\n",
    "\n",
    "print(X_train.shape)"
   ]
  },
  {
   "cell_type": "code",
   "execution_count": 24,
   "metadata": {},
   "outputs": [],
   "source": [
    "X_train = X_train.astype(np.float) / 255.0  \n",
    "X_test = X_test.astype(np.float) / 255.0"
   ]
  },
  {
   "cell_type": "code",
   "execution_count": 25,
   "metadata": {},
   "outputs": [],
   "source": [
    "num_classes = 10\n",
    "input_shape = (28, 28, 1)\n",
    "batch_size = 128\n",
    "epochs = 30"
   ]
  },
  {
   "cell_type": "code",
   "execution_count": 26,
   "metadata": {},
   "outputs": [
    {
     "name": "stdout",
     "output_type": "stream",
     "text": [
      "Model: \"sequential_3\"\n",
      "_________________________________________________________________\n",
      "Layer (type)                 Output Shape              Param #   \n",
      "=================================================================\n",
      "flatten_3 (Flatten)          (None, 784)               0         \n",
      "_________________________________________________________________\n",
      "dense_5 (Dense)              (None, 10)                7850      \n",
      "=================================================================\n",
      "Total params: 7,850\n",
      "Trainable params: 7,850\n",
      "Non-trainable params: 0\n",
      "_________________________________________________________________\n"
     ]
    }
   ],
   "source": [
    "model = keras.Sequential(\n",
    "        [\n",
    "            keras.Input(shape=input_shape),\n",
    "            keras.layers.Flatten(),\n",
    "            layers.Dense(num_classes, activation=\"softmax\")\n",
    "        ]\n",
    "    )\n",
    "\n",
    "model.summary()"
   ]
  },
  {
   "cell_type": "code",
   "execution_count": 27,
   "metadata": {},
   "outputs": [],
   "source": [
    "model.compile(loss=\"sparse_categorical_crossentropy\", optimizer=\"adam\", metrics=[\"accuracy\"])"
   ]
  },
  {
   "cell_type": "code",
   "execution_count": 28,
   "metadata": {},
   "outputs": [
    {
     "name": "stdout",
     "output_type": "stream",
     "text": [
      "Epoch 1/30\n",
      "375/375 [==============================] - 1s 3ms/step - loss: 0.7446 - accuracy: 0.8176 - val_loss: 0.4070 - val_accuracy: 0.8954\n",
      "Epoch 2/30\n",
      "375/375 [==============================] - 1s 2ms/step - loss: 0.3890 - accuracy: 0.8961 - val_loss: 0.3334 - val_accuracy: 0.9115\n",
      "Epoch 3/30\n",
      "375/375 [==============================] - 1s 2ms/step - loss: 0.3378 - accuracy: 0.9075 - val_loss: 0.3071 - val_accuracy: 0.9161\n",
      "Epoch 4/30\n",
      "375/375 [==============================] - 1s 2ms/step - loss: 0.3142 - accuracy: 0.9136 - val_loss: 0.2942 - val_accuracy: 0.9181\n",
      "Epoch 5/30\n",
      "375/375 [==============================] - 1s 2ms/step - loss: 0.3002 - accuracy: 0.9167 - val_loss: 0.2841 - val_accuracy: 0.9220\n",
      "Epoch 6/30\n",
      "375/375 [==============================] - 1s 2ms/step - loss: 0.2907 - accuracy: 0.9194 - val_loss: 0.2804 - val_accuracy: 0.9221\n",
      "Epoch 7/30\n",
      "375/375 [==============================] - 1s 2ms/step - loss: 0.2834 - accuracy: 0.9203 - val_loss: 0.2755 - val_accuracy: 0.9242\n",
      "Epoch 8/30\n",
      "375/375 [==============================] - 1s 3ms/step - loss: 0.2782 - accuracy: 0.9220 - val_loss: 0.2716 - val_accuracy: 0.9247\n",
      "Epoch 9/30\n",
      "375/375 [==============================] - 1s 2ms/step - loss: 0.2737 - accuracy: 0.9233 - val_loss: 0.2688 - val_accuracy: 0.9258\n",
      "Epoch 10/30\n",
      "375/375 [==============================] - 1s 2ms/step - loss: 0.2699 - accuracy: 0.9243 - val_loss: 0.2682 - val_accuracy: 0.9260\n",
      "Epoch 11/30\n",
      "375/375 [==============================] - 1s 2ms/step - loss: 0.2666 - accuracy: 0.9248 - val_loss: 0.2666 - val_accuracy: 0.9264\n",
      "Epoch 12/30\n",
      "375/375 [==============================] - 1s 2ms/step - loss: 0.2640 - accuracy: 0.9260 - val_loss: 0.2629 - val_accuracy: 0.9294\n",
      "Epoch 13/30\n",
      "375/375 [==============================] - 1s 2ms/step - loss: 0.2617 - accuracy: 0.9271 - val_loss: 0.2633 - val_accuracy: 0.9297\n",
      "Epoch 14/30\n",
      "375/375 [==============================] - 1s 2ms/step - loss: 0.2593 - accuracy: 0.9267 - val_loss: 0.2624 - val_accuracy: 0.9277\n",
      "Epoch 15/30\n",
      "375/375 [==============================] - 1s 2ms/step - loss: 0.2576 - accuracy: 0.9279 - val_loss: 0.2632 - val_accuracy: 0.9282\n",
      "Epoch 16/30\n",
      "375/375 [==============================] - 1s 2ms/step - loss: 0.2559 - accuracy: 0.9280 - val_loss: 0.2619 - val_accuracy: 0.9294\n",
      "Epoch 17/30\n",
      "375/375 [==============================] - 1s 2ms/step - loss: 0.2545 - accuracy: 0.9290 - val_loss: 0.2620 - val_accuracy: 0.9296\n",
      "Epoch 18/30\n",
      "375/375 [==============================] - 1s 2ms/step - loss: 0.2526 - accuracy: 0.9292 - val_loss: 0.2612 - val_accuracy: 0.9295\n",
      "Epoch 19/30\n",
      "375/375 [==============================] - 1s 2ms/step - loss: 0.2516 - accuracy: 0.9294 - val_loss: 0.2604 - val_accuracy: 0.9292\n",
      "Epoch 20/30\n",
      "375/375 [==============================] - 1s 2ms/step - loss: 0.2506 - accuracy: 0.9301 - val_loss: 0.2602 - val_accuracy: 0.9294\n",
      "Epoch 21/30\n",
      "375/375 [==============================] - 1s 2ms/step - loss: 0.2489 - accuracy: 0.9305 - val_loss: 0.2596 - val_accuracy: 0.9298\n",
      "Epoch 22/30\n",
      "375/375 [==============================] - 1s 2ms/step - loss: 0.2481 - accuracy: 0.9315 - val_loss: 0.2592 - val_accuracy: 0.9302\n",
      "Epoch 23/30\n",
      "375/375 [==============================] - 1s 2ms/step - loss: 0.2470 - accuracy: 0.9309 - val_loss: 0.2597 - val_accuracy: 0.9305\n",
      "Epoch 24/30\n",
      "375/375 [==============================] - 1s 2ms/step - loss: 0.2466 - accuracy: 0.9313 - val_loss: 0.2596 - val_accuracy: 0.9305\n",
      "Epoch 25/30\n",
      "375/375 [==============================] - 1s 2ms/step - loss: 0.2452 - accuracy: 0.9317 - val_loss: 0.2603 - val_accuracy: 0.9297\n",
      "Epoch 26/30\n",
      "375/375 [==============================] - 1s 2ms/step - loss: 0.2445 - accuracy: 0.9323 - val_loss: 0.2595 - val_accuracy: 0.9302\n",
      "Epoch 27/30\n",
      "375/375 [==============================] - 1s 2ms/step - loss: 0.2436 - accuracy: 0.9324 - val_loss: 0.2601 - val_accuracy: 0.9297\n",
      "Epoch 28/30\n",
      "375/375 [==============================] - 1s 2ms/step - loss: 0.2430 - accuracy: 0.9321 - val_loss: 0.2595 - val_accuracy: 0.9304\n",
      "Epoch 29/30\n",
      "375/375 [==============================] - ETA: 0s - loss: 0.2423 - accuracy: 0.93 - 1s 2ms/step - loss: 0.2424 - accuracy: 0.9327 - val_loss: 0.2590 - val_accuracy: 0.9313\n",
      "Epoch 30/30\n",
      "375/375 [==============================] - 1s 2ms/step - loss: 0.2417 - accuracy: 0.9329 - val_loss: 0.2582 - val_accuracy: 0.9311\n"
     ]
    },
    {
     "data": {
      "text/plain": [
       "<keras.callbacks.History at 0x2333684cc18>"
      ]
     },
     "execution_count": 28,
     "metadata": {},
     "output_type": "execute_result"
    }
   ],
   "source": [
    "model.fit(X_train, y_train, batch_size=batch_size, epochs=epochs, validation_split=0.2)"
   ]
  },
  {
   "cell_type": "code",
   "execution_count": 29,
   "metadata": {},
   "outputs": [
    {
     "name": "stdout",
     "output_type": "stream",
     "text": [
      "              precision    recall  f1-score   support\n",
      "\n",
      "           0       0.95      0.98      0.97       980\n",
      "           1       0.97      0.98      0.98      1135\n",
      "           2       0.93      0.90      0.91      1032\n",
      "           3       0.91      0.91      0.91      1010\n",
      "           4       0.95      0.92      0.94       982\n",
      "           5       0.91      0.87      0.89       892\n",
      "           6       0.95      0.95      0.95       958\n",
      "           7       0.93      0.93      0.93      1028\n",
      "           8       0.88      0.90      0.89       974\n",
      "           9       0.91      0.92      0.91      1009\n",
      "\n",
      "    accuracy                           0.93     10000\n",
      "   macro avg       0.93      0.93      0.93     10000\n",
      "weighted avg       0.93      0.93      0.93     10000\n",
      "\n",
      "[[ 964    0    1    2    0    5    5    2    1    0]\n",
      " [   0 1114    3    3    0    1    3    2    9    0]\n",
      " [   5    9  933   14    6    3   11    9   38    4]\n",
      " [   3    0   19  921    0   24    2   12   22    7]\n",
      " [   1    1    8    1  907    0    9    5   11   39]\n",
      " [   8    2    4   34    7  778   13    9   31    6]\n",
      " [  13    3    9    1    7   13  909    1    2    0]\n",
      " [   1    6   23    7    4    1    0  955    2   29]\n",
      " [   7    6    7   17    7   22    8   12  879    9]\n",
      " [  11    7    1   12   17    6    0   23    5  927]]\n"
     ]
    }
   ],
   "source": [
    "y_probab = model.predict(X_test)\n",
    "y_pred = np.argmax(y_probab, axis=1)\n",
    "\n",
    "print(classification_report(y_test, y_pred))\n",
    "print(confusion_matrix(y_test, y_pred))"
   ]
  },
  {
   "attachments": {},
   "cell_type": "markdown",
   "metadata": {},
   "source": [
    "# Sieć MLP"
   ]
  },
  {
   "cell_type": "code",
   "execution_count": 30,
   "metadata": {},
   "outputs": [
    {
     "name": "stdout",
     "output_type": "stream",
     "text": [
      "Model: \"sequential_4\"\n",
      "_________________________________________________________________\n",
      "Layer (type)                 Output Shape              Param #   \n",
      "=================================================================\n",
      "flatten_4 (Flatten)          (None, 784)               0         \n",
      "_________________________________________________________________\n",
      "dense_6 (Dense)              (None, 64)                50240     \n",
      "_________________________________________________________________\n",
      "dense_7 (Dense)              (None, 128)               8320      \n",
      "_________________________________________________________________\n",
      "dense_8 (Dense)              (None, 10)                1290      \n",
      "=================================================================\n",
      "Total params: 59,850\n",
      "Trainable params: 59,850\n",
      "Non-trainable params: 0\n",
      "_________________________________________________________________\n"
     ]
    }
   ],
   "source": [
    "model = keras.Sequential(\n",
    "        [\n",
    "            keras.Input(shape=input_shape),\n",
    "            keras.layers.Flatten(),\n",
    "            layers.Dense(64, activation=\"tanh\"),\n",
    "            layers.Dense(128, activation=\"tanh\"),\n",
    "            layers.Dense(num_classes, activation=\"softmax\")\n",
    "        ]\n",
    "    )\n",
    "\n",
    "model.summary()"
   ]
  },
  {
   "cell_type": "code",
   "execution_count": 31,
   "metadata": {},
   "outputs": [],
   "source": [
    "model.compile(loss=\"sparse_categorical_crossentropy\", optimizer=\"adam\", metrics=[\"accuracy\"])"
   ]
  },
  {
   "cell_type": "code",
   "execution_count": 32,
   "metadata": {},
   "outputs": [
    {
     "name": "stdout",
     "output_type": "stream",
     "text": [
      "Epoch 1/30\n",
      "375/375 [==============================] - 2s 3ms/step - loss: 0.4110 - accuracy: 0.8818 - val_loss: 0.2280 - val_accuracy: 0.9357\n",
      "Epoch 2/30\n",
      "375/375 [==============================] - 1s 3ms/step - loss: 0.1991 - accuracy: 0.9415 - val_loss: 0.1665 - val_accuracy: 0.9541\n",
      "Epoch 3/30\n",
      "375/375 [==============================] - 1s 3ms/step - loss: 0.1421 - accuracy: 0.9577 - val_loss: 0.1420 - val_accuracy: 0.9581\n",
      "Epoch 4/30\n",
      "375/375 [==============================] - 1s 3ms/step - loss: 0.1111 - accuracy: 0.9674 - val_loss: 0.1259 - val_accuracy: 0.9630\n",
      "Epoch 5/30\n",
      "375/375 [==============================] - 1s 3ms/step - loss: 0.0896 - accuracy: 0.9737 - val_loss: 0.1112 - val_accuracy: 0.9672\n",
      "Epoch 6/30\n",
      "375/375 [==============================] - 1s 3ms/step - loss: 0.0746 - accuracy: 0.9776 - val_loss: 0.1072 - val_accuracy: 0.9674\n",
      "Epoch 7/30\n",
      "375/375 [==============================] - 1s 3ms/step - loss: 0.0623 - accuracy: 0.9813 - val_loss: 0.1031 - val_accuracy: 0.9694\n",
      "Epoch 8/30\n",
      "375/375 [==============================] - 1s 3ms/step - loss: 0.0521 - accuracy: 0.9843 - val_loss: 0.1015 - val_accuracy: 0.9695\n",
      "Epoch 9/30\n",
      "375/375 [==============================] - 1s 3ms/step - loss: 0.0436 - accuracy: 0.9881 - val_loss: 0.1034 - val_accuracy: 0.9681\n",
      "Epoch 10/30\n",
      "375/375 [==============================] - 1s 3ms/step - loss: 0.0367 - accuracy: 0.9892 - val_loss: 0.1039 - val_accuracy: 0.9676\n",
      "Epoch 11/30\n",
      "375/375 [==============================] - 1s 3ms/step - loss: 0.0299 - accuracy: 0.9916 - val_loss: 0.1050 - val_accuracy: 0.9693\n",
      "Epoch 12/30\n",
      "375/375 [==============================] - 1s 3ms/step - loss: 0.0266 - accuracy: 0.9925 - val_loss: 0.1089 - val_accuracy: 0.9703\n",
      "Epoch 13/30\n",
      "375/375 [==============================] - 1s 3ms/step - loss: 0.0208 - accuracy: 0.9945 - val_loss: 0.1166 - val_accuracy: 0.9670\n",
      "Epoch 14/30\n",
      "375/375 [==============================] - 1s 3ms/step - loss: 0.0182 - accuracy: 0.9951 - val_loss: 0.1124 - val_accuracy: 0.9697\n",
      "Epoch 15/30\n",
      "375/375 [==============================] - 1s 3ms/step - loss: 0.0163 - accuracy: 0.9957 - val_loss: 0.1146 - val_accuracy: 0.9694\n",
      "Epoch 16/30\n",
      "375/375 [==============================] - 1s 3ms/step - loss: 0.0135 - accuracy: 0.9961 - val_loss: 0.1250 - val_accuracy: 0.9678\n",
      "Epoch 17/30\n",
      "375/375 [==============================] - 1s 3ms/step - loss: 0.0118 - accuracy: 0.9969 - val_loss: 0.1200 - val_accuracy: 0.9699\n",
      "Epoch 18/30\n",
      "375/375 [==============================] - 1s 3ms/step - loss: 0.0086 - accuracy: 0.9980 - val_loss: 0.1152 - val_accuracy: 0.9706\n",
      "Epoch 19/30\n",
      "375/375 [==============================] - 1s 3ms/step - loss: 0.0083 - accuracy: 0.9977 - val_loss: 0.1309 - val_accuracy: 0.9672\n",
      "Epoch 20/30\n",
      "375/375 [==============================] - 1s 3ms/step - loss: 0.0077 - accuracy: 0.9983 - val_loss: 0.1226 - val_accuracy: 0.9699\n",
      "Epoch 21/30\n",
      "375/375 [==============================] - 1s 3ms/step - loss: 0.0080 - accuracy: 0.9977 - val_loss: 0.1399 - val_accuracy: 0.9678\n",
      "Epoch 22/30\n",
      "375/375 [==============================] - 1s 3ms/step - loss: 0.0086 - accuracy: 0.9974 - val_loss: 0.1320 - val_accuracy: 0.9701\n",
      "Epoch 23/30\n",
      "375/375 [==============================] - 1s 3ms/step - loss: 0.0073 - accuracy: 0.9980 - val_loss: 0.1417 - val_accuracy: 0.9680\n",
      "Epoch 24/30\n",
      "375/375 [==============================] - 1s 3ms/step - loss: 0.0034 - accuracy: 0.9993 - val_loss: 0.1315 - val_accuracy: 0.9716\n",
      "Epoch 25/30\n",
      "375/375 [==============================] - 1s 3ms/step - loss: 0.0026 - accuracy: 0.9996 - val_loss: 0.1350 - val_accuracy: 0.9707\n",
      "Epoch 26/30\n",
      "375/375 [==============================] - 1s 3ms/step - loss: 0.0038 - accuracy: 0.9991 - val_loss: 0.1615 - val_accuracy: 0.9663\n",
      "Epoch 27/30\n",
      "375/375 [==============================] - 1s 3ms/step - loss: 0.0073 - accuracy: 0.9976 - val_loss: 0.1577 - val_accuracy: 0.9682\n",
      "Epoch 28/30\n",
      "375/375 [==============================] - 1s 3ms/step - loss: 0.0108 - accuracy: 0.9966 - val_loss: 0.1407 - val_accuracy: 0.9697\n",
      "Epoch 29/30\n",
      "375/375 [==============================] - 1s 3ms/step - loss: 0.0029 - accuracy: 0.9995 - val_loss: 0.1385 - val_accuracy: 0.9698\n",
      "Epoch 30/30\n",
      "375/375 [==============================] - 1s 3ms/step - loss: 0.0012 - accuracy: 0.9999 - val_loss: 0.1492 - val_accuracy: 0.9687\n"
     ]
    },
    {
     "data": {
      "text/plain": [
       "<keras.callbacks.History at 0x23338da99e8>"
      ]
     },
     "execution_count": 32,
     "metadata": {},
     "output_type": "execute_result"
    }
   ],
   "source": [
    "model.fit(X_train, y_train, batch_size=batch_size, epochs=epochs, validation_split=0.2)"
   ]
  },
  {
   "cell_type": "code",
   "execution_count": 33,
   "metadata": {},
   "outputs": [
    {
     "name": "stdout",
     "output_type": "stream",
     "text": [
      "              precision    recall  f1-score   support\n",
      "\n",
      "           0       0.98      0.99      0.99       980\n",
      "           1       0.98      1.00      0.99      1135\n",
      "           2       0.97      0.97      0.97      1032\n",
      "           3       0.96      0.98      0.97      1010\n",
      "           4       0.97      0.98      0.98       982\n",
      "           5       0.97      0.95      0.96       892\n",
      "           6       0.98      0.98      0.98       958\n",
      "           7       0.97      0.96      0.97      1028\n",
      "           8       0.98      0.97      0.97       974\n",
      "           9       0.97      0.97      0.97      1009\n",
      "\n",
      "    accuracy                           0.97     10000\n",
      "   macro avg       0.97      0.97      0.97     10000\n",
      "weighted avg       0.97      0.97      0.97     10000\n",
      "\n",
      "[[ 970    0    0    2    2    2    1    3    0    0]\n",
      " [   0 1130    2    0    0    1    1    1    0    0]\n",
      " [   5    1 1004    5    2    2    3    5    3    2]\n",
      " [   1    1    6  989    1    1    0    3    3    5]\n",
      " [   0    1    0    1  961    0    7    2    2    8]\n",
      " [   4    1    0   18    4  848    8    0    7    2]\n",
      " [   4    2    3    2    3    5  938    0    1    0]\n",
      " [   1    8   13    6    3    1    0  987    2    7]\n",
      " [   1    2    6    6    1    7    2    6  940    3]\n",
      " [   2    6    0    3   10    4    1    7    2  974]]\n"
     ]
    }
   ],
   "source": [
    "y_probab = model.predict(X_test)\n",
    "y_pred = np.argmax(y_probab, axis=1)\n",
    "\n",
    "print(classification_report(y_test, y_pred))\n",
    "print(confusion_matrix(y_test, y_pred))"
   ]
  },
  {
   "attachments": {},
   "cell_type": "markdown",
   "metadata": {},
   "source": [
    "# Sieć konwolucyjna"
   ]
  },
  {
   "cell_type": "code",
   "execution_count": 34,
   "metadata": {},
   "outputs": [
    {
     "name": "stdout",
     "output_type": "stream",
     "text": [
      "Model: \"sequential_5\"\n",
      "_________________________________________________________________\n",
      "Layer (type)                 Output Shape              Param #   \n",
      "=================================================================\n",
      "conv2d_2 (Conv2D)            (None, 26, 26, 32)        320       \n",
      "_________________________________________________________________\n",
      "max_pooling2d_2 (MaxPooling2 (None, 13, 13, 32)        0         \n",
      "_________________________________________________________________\n",
      "conv2d_3 (Conv2D)            (None, 11, 11, 64)        18496     \n",
      "_________________________________________________________________\n",
      "max_pooling2d_3 (MaxPooling2 (None, 5, 5, 64)          0         \n",
      "_________________________________________________________________\n",
      "flatten_5 (Flatten)          (None, 1600)              0         \n",
      "_________________________________________________________________\n",
      "dropout_1 (Dropout)          (None, 1600)              0         \n",
      "_________________________________________________________________\n",
      "dense_9 (Dense)              (None, 10)                16010     \n",
      "=================================================================\n",
      "Total params: 34,826\n",
      "Trainable params: 34,826\n",
      "Non-trainable params: 0\n",
      "_________________________________________________________________\n"
     ]
    }
   ],
   "source": [
    "model = keras.Sequential(\n",
    "        [\n",
    "            keras.Input(shape=input_shape),\n",
    "            layers.Conv2D(32, kernel_size=(3, 3), activation=\"relu\"),\n",
    "            layers.MaxPooling2D(pool_size=(2, 2)),\n",
    "            layers.Conv2D(64, kernel_size=(3, 3), activation=\"relu\"),\n",
    "            layers.MaxPooling2D(pool_size=(2, 2)),\n",
    "            layers.Flatten(),\n",
    "            layers.Dropout(0.5),\n",
    "            layers.Dense(num_classes, activation=\"softmax\"),\n",
    "        ]\n",
    "    )\n",
    "\n",
    "model.summary()"
   ]
  },
  {
   "cell_type": "code",
   "execution_count": 35,
   "metadata": {},
   "outputs": [],
   "source": [
    "model.compile(loss=\"sparse_categorical_crossentropy\", optimizer=\"adam\", metrics=[\"accuracy\"])"
   ]
  },
  {
   "cell_type": "code",
   "execution_count": 36,
   "metadata": {},
   "outputs": [
    {
     "name": "stdout",
     "output_type": "stream",
     "text": [
      "Epoch 1/30\n",
      "375/375 [==============================] - 17s 44ms/step - loss: 0.3898 - accuracy: 0.8836 - val_loss: 0.0991 - val_accuracy: 0.9741\n",
      "Epoch 2/30\n",
      "375/375 [==============================] - 16s 43ms/step - loss: 0.1125 - accuracy: 0.9658 - val_loss: 0.0671 - val_accuracy: 0.9817\n",
      "Epoch 3/30\n",
      "375/375 [==============================] - 18s 49ms/step - loss: 0.0859 - accuracy: 0.9735 - val_loss: 0.0556 - val_accuracy: 0.9847\n",
      "Epoch 4/30\n",
      "375/375 [==============================] - 17s 45ms/step - loss: 0.0724 - accuracy: 0.9773 - val_loss: 0.0473 - val_accuracy: 0.9871\n",
      "Epoch 5/30\n",
      "375/375 [==============================] - 15s 41ms/step - loss: 0.0622 - accuracy: 0.9809 - val_loss: 0.0443 - val_accuracy: 0.9883\n",
      "Epoch 6/30\n",
      "375/375 [==============================] - 16s 41ms/step - loss: 0.0542 - accuracy: 0.9827 - val_loss: 0.0414 - val_accuracy: 0.9880\n",
      "Epoch 7/30\n",
      "375/375 [==============================] - 16s 42ms/step - loss: 0.0529 - accuracy: 0.9830 - val_loss: 0.0404 - val_accuracy: 0.9882\n",
      "Epoch 8/30\n",
      "375/375 [==============================] - 16s 42ms/step - loss: 0.0489 - accuracy: 0.9844 - val_loss: 0.0402 - val_accuracy: 0.9880\n",
      "Epoch 9/30\n",
      "375/375 [==============================] - 16s 42ms/step - loss: 0.0434 - accuracy: 0.9856 - val_loss: 0.0375 - val_accuracy: 0.9890\n",
      "Epoch 10/30\n",
      "375/375 [==============================] - 16s 41ms/step - loss: 0.0423 - accuracy: 0.9864 - val_loss: 0.0348 - val_accuracy: 0.9907\n",
      "Epoch 11/30\n",
      "375/375 [==============================] - 16s 43ms/step - loss: 0.0424 - accuracy: 0.9863 - val_loss: 0.0350 - val_accuracy: 0.9896\n",
      "Epoch 12/30\n",
      "375/375 [==============================] - 16s 42ms/step - loss: 0.0369 - accuracy: 0.9881 - val_loss: 0.0367 - val_accuracy: 0.9892\n",
      "Epoch 13/30\n",
      "375/375 [==============================] - 16s 42ms/step - loss: 0.0360 - accuracy: 0.9882 - val_loss: 0.0344 - val_accuracy: 0.9909\n",
      "Epoch 14/30\n",
      "375/375 [==============================] - 16s 43ms/step - loss: 0.0341 - accuracy: 0.9892 - val_loss: 0.0320 - val_accuracy: 0.9908\n",
      "Epoch 15/30\n",
      "375/375 [==============================] - 16s 43ms/step - loss: 0.0323 - accuracy: 0.9896 - val_loss: 0.0344 - val_accuracy: 0.9907\n",
      "Epoch 16/30\n",
      "375/375 [==============================] - 16s 43ms/step - loss: 0.0308 - accuracy: 0.9900 - val_loss: 0.0315 - val_accuracy: 0.9919\n",
      "Epoch 17/30\n",
      "375/375 [==============================] - 16s 44ms/step - loss: 0.0310 - accuracy: 0.9893 - val_loss: 0.0321 - val_accuracy: 0.9908\n",
      "Epoch 18/30\n",
      "375/375 [==============================] - 17s 46ms/step - loss: 0.0297 - accuracy: 0.9902 - val_loss: 0.0342 - val_accuracy: 0.9908\n",
      "Epoch 19/30\n",
      "375/375 [==============================] - 16s 44ms/step - loss: 0.0283 - accuracy: 0.9906 - val_loss: 0.0319 - val_accuracy: 0.9913\n",
      "Epoch 20/30\n",
      "375/375 [==============================] - 16s 43ms/step - loss: 0.0269 - accuracy: 0.9908 - val_loss: 0.0314 - val_accuracy: 0.9915\n",
      "Epoch 21/30\n",
      "375/375 [==============================] - 17s 44ms/step - loss: 0.0268 - accuracy: 0.9910 - val_loss: 0.0301 - val_accuracy: 0.9918\n",
      "Epoch 22/30\n",
      "375/375 [==============================] - 17s 46ms/step - loss: 0.0248 - accuracy: 0.9921 - val_loss: 0.0326 - val_accuracy: 0.9915\n",
      "Epoch 23/30\n",
      "375/375 [==============================] - 16s 43ms/step - loss: 0.0255 - accuracy: 0.9908 - val_loss: 0.0290 - val_accuracy: 0.9914\n",
      "Epoch 24/30\n",
      "375/375 [==============================] - 16s 44ms/step - loss: 0.0246 - accuracy: 0.9916 - val_loss: 0.0313 - val_accuracy: 0.9918\n",
      "Epoch 25/30\n",
      "375/375 [==============================] - 16s 44ms/step - loss: 0.0234 - accuracy: 0.9920 - val_loss: 0.0305 - val_accuracy: 0.9918\n",
      "Epoch 26/30\n",
      "375/375 [==============================] - 16s 43ms/step - loss: 0.0236 - accuracy: 0.9925 - val_loss: 0.0291 - val_accuracy: 0.9923\n",
      "Epoch 27/30\n",
      "375/375 [==============================] - 17s 44ms/step - loss: 0.0224 - accuracy: 0.9924 - val_loss: 0.0299 - val_accuracy: 0.9917\n",
      "Epoch 28/30\n",
      "375/375 [==============================] - 17s 45ms/step - loss: 0.0223 - accuracy: 0.9926 - val_loss: 0.0294 - val_accuracy: 0.9920\n",
      "Epoch 29/30\n",
      "375/375 [==============================] - 16s 42ms/step - loss: 0.0202 - accuracy: 0.9933 - val_loss: 0.0296 - val_accuracy: 0.9927\n",
      "Epoch 30/30\n",
      "375/375 [==============================] - 17s 45ms/step - loss: 0.0200 - accuracy: 0.9930 - val_loss: 0.0322 - val_accuracy: 0.9924\n"
     ]
    },
    {
     "data": {
      "text/plain": [
       "<keras.callbacks.History at 0x23339ef3ba8>"
      ]
     },
     "execution_count": 36,
     "metadata": {},
     "output_type": "execute_result"
    }
   ],
   "source": [
    "model.fit(X_train, y_train, batch_size=batch_size, epochs=epochs, validation_split=0.2)"
   ]
  },
  {
   "cell_type": "code",
   "execution_count": 37,
   "metadata": {},
   "outputs": [
    {
     "name": "stdout",
     "output_type": "stream",
     "text": [
      "              precision    recall  f1-score   support\n",
      "\n",
      "           0       1.00      1.00      1.00       980\n",
      "           1       0.99      1.00      1.00      1135\n",
      "           2       0.99      1.00      0.99      1032\n",
      "           3       0.99      1.00      0.99      1010\n",
      "           4       0.99      0.99      0.99       982\n",
      "           5       0.99      0.99      0.99       892\n",
      "           6       1.00      0.99      0.99       958\n",
      "           7       0.99      0.99      0.99      1028\n",
      "           8       0.99      0.99      0.99       974\n",
      "           9       0.99      0.98      0.99      1009\n",
      "\n",
      "    accuracy                           0.99     10000\n",
      "   macro avg       0.99      0.99      0.99     10000\n",
      "weighted avg       0.99      0.99      0.99     10000\n",
      "\n",
      "[[ 977    0    1    0    0    0    0    1    1    0]\n",
      " [   0 1131    2    1    0    0    1    0    0    0]\n",
      " [   0    0 1027    0    1    0    0    4    0    0]\n",
      " [   0    0    0 1007    0    0    0    2    1    0]\n",
      " [   0    1    0    0  977    0    0    1    0    3]\n",
      " [   0    0    0    7    0  882    1    1    1    0]\n",
      " [   3    2    1    1    2    3  944    0    2    0]\n",
      " [   0    2    7    0    0    0    0 1017    1    1]\n",
      " [   1    0    1    3    0    1    0    1  965    2]\n",
      " [   0    1    0    3    3    5    0    4    3  990]]\n"
     ]
    }
   ],
   "source": [
    "y_probab = model.predict(X_test)\n",
    "y_pred = np.argmax(y_probab, axis=1)\n",
    "\n",
    "print(classification_report(y_test, y_pred))\n",
    "print(confusion_matrix(y_test, y_pred))"
   ]
  }
 ],
 "metadata": {
  "kernelspec": {
   "display_name": "Python 3",
   "language": "python",
   "name": "python3"
  },
  "language_info": {
   "codemirror_mode": {
    "name": "ipython",
    "version": 3
   },
   "file_extension": ".py",
   "mimetype": "text/x-python",
   "name": "python",
   "nbconvert_exporter": "python",
   "pygments_lexer": "ipython3",
   "version": "3.6.8rc1"
  },
  "orig_nbformat": 4
 },
 "nbformat": 4,
 "nbformat_minor": 2
}
