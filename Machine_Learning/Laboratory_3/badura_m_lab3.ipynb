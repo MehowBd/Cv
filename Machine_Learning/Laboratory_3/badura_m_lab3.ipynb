{
 "cells": [
  {
   "cell_type": "code",
   "execution_count": 1,
   "metadata": {},
   "outputs": [],
   "source": [
    "import numpy as np\n",
    "import pandas as pd\n",
    "import matplotlib.pyplot as plt\n",
    "import matplotlib.patches as mpatches"
   ]
  },
  {
   "cell_type": "code",
   "execution_count": 2,
   "metadata": {},
   "outputs": [],
   "source": [
    "import os\n",
    "path = os.getcwd() + '/ex2data1.txt'\n",
    "data = pd.read_csv(path, header=None, names=['Exam 1', 'Exam 2', 'Admitted'])"
   ]
  },
  {
   "attachments": {},
   "cell_type": "markdown",
   "metadata": {},
   "source": [
    "Ex. 0."
   ]
  },
  {
   "cell_type": "code",
   "execution_count": 3,
   "metadata": {},
   "outputs": [
    {
     "data": {
      "text/html": [
       "<div>\n",
       "<style scoped>\n",
       "    .dataframe tbody tr th:only-of-type {\n",
       "        vertical-align: middle;\n",
       "    }\n",
       "\n",
       "    .dataframe tbody tr th {\n",
       "        vertical-align: top;\n",
       "    }\n",
       "\n",
       "    .dataframe thead th {\n",
       "        text-align: right;\n",
       "    }\n",
       "</style>\n",
       "<table border=\"1\" class=\"dataframe\">\n",
       "  <thead>\n",
       "    <tr style=\"text-align: right;\">\n",
       "      <th></th>\n",
       "      <th>Exam 1</th>\n",
       "      <th>Exam 2</th>\n",
       "      <th>Admitted</th>\n",
       "    </tr>\n",
       "  </thead>\n",
       "  <tbody>\n",
       "    <tr>\n",
       "      <th>count</th>\n",
       "      <td>100.000000</td>\n",
       "      <td>100.000000</td>\n",
       "      <td>100.000000</td>\n",
       "    </tr>\n",
       "    <tr>\n",
       "      <th>mean</th>\n",
       "      <td>65.644274</td>\n",
       "      <td>66.221998</td>\n",
       "      <td>0.600000</td>\n",
       "    </tr>\n",
       "    <tr>\n",
       "      <th>std</th>\n",
       "      <td>19.458222</td>\n",
       "      <td>18.582783</td>\n",
       "      <td>0.492366</td>\n",
       "    </tr>\n",
       "    <tr>\n",
       "      <th>min</th>\n",
       "      <td>30.058822</td>\n",
       "      <td>30.603263</td>\n",
       "      <td>0.000000</td>\n",
       "    </tr>\n",
       "    <tr>\n",
       "      <th>25%</th>\n",
       "      <td>50.919511</td>\n",
       "      <td>48.179205</td>\n",
       "      <td>0.000000</td>\n",
       "    </tr>\n",
       "    <tr>\n",
       "      <th>50%</th>\n",
       "      <td>67.032988</td>\n",
       "      <td>67.682381</td>\n",
       "      <td>1.000000</td>\n",
       "    </tr>\n",
       "    <tr>\n",
       "      <th>75%</th>\n",
       "      <td>80.212529</td>\n",
       "      <td>79.360605</td>\n",
       "      <td>1.000000</td>\n",
       "    </tr>\n",
       "    <tr>\n",
       "      <th>max</th>\n",
       "      <td>99.827858</td>\n",
       "      <td>98.869436</td>\n",
       "      <td>1.000000</td>\n",
       "    </tr>\n",
       "  </tbody>\n",
       "</table>\n",
       "</div>"
      ],
      "text/plain": [
       "           Exam 1      Exam 2    Admitted\n",
       "count  100.000000  100.000000  100.000000\n",
       "mean    65.644274   66.221998    0.600000\n",
       "std     19.458222   18.582783    0.492366\n",
       "min     30.058822   30.603263    0.000000\n",
       "25%     50.919511   48.179205    0.000000\n",
       "50%     67.032988   67.682381    1.000000\n",
       "75%     80.212529   79.360605    1.000000\n",
       "max     99.827858   98.869436    1.000000"
      ]
     },
     "execution_count": 3,
     "metadata": {},
     "output_type": "execute_result"
    }
   ],
   "source": [
    "data.describe()"
   ]
  },
  {
   "cell_type": "code",
   "execution_count": 4,
   "metadata": {},
   "outputs": [
    {
     "data": {
      "text/html": [
       "<div>\n",
       "<style scoped>\n",
       "    .dataframe tbody tr th:only-of-type {\n",
       "        vertical-align: middle;\n",
       "    }\n",
       "\n",
       "    .dataframe tbody tr th {\n",
       "        vertical-align: top;\n",
       "    }\n",
       "\n",
       "    .dataframe thead th {\n",
       "        text-align: right;\n",
       "    }\n",
       "</style>\n",
       "<table border=\"1\" class=\"dataframe\">\n",
       "  <thead>\n",
       "    <tr style=\"text-align: right;\">\n",
       "      <th></th>\n",
       "      <th>Exam 1</th>\n",
       "      <th>Exam 2</th>\n",
       "      <th>Admitted</th>\n",
       "    </tr>\n",
       "  </thead>\n",
       "  <tbody>\n",
       "    <tr>\n",
       "      <th>0</th>\n",
       "      <td>34.623660</td>\n",
       "      <td>78.024693</td>\n",
       "      <td>0</td>\n",
       "    </tr>\n",
       "    <tr>\n",
       "      <th>1</th>\n",
       "      <td>30.286711</td>\n",
       "      <td>43.894998</td>\n",
       "      <td>0</td>\n",
       "    </tr>\n",
       "    <tr>\n",
       "      <th>2</th>\n",
       "      <td>35.847409</td>\n",
       "      <td>72.902198</td>\n",
       "      <td>0</td>\n",
       "    </tr>\n",
       "    <tr>\n",
       "      <th>3</th>\n",
       "      <td>60.182599</td>\n",
       "      <td>86.308552</td>\n",
       "      <td>1</td>\n",
       "    </tr>\n",
       "    <tr>\n",
       "      <th>4</th>\n",
       "      <td>79.032736</td>\n",
       "      <td>75.344376</td>\n",
       "      <td>1</td>\n",
       "    </tr>\n",
       "    <tr>\n",
       "      <th>5</th>\n",
       "      <td>45.083277</td>\n",
       "      <td>56.316372</td>\n",
       "      <td>0</td>\n",
       "    </tr>\n",
       "    <tr>\n",
       "      <th>6</th>\n",
       "      <td>61.106665</td>\n",
       "      <td>96.511426</td>\n",
       "      <td>1</td>\n",
       "    </tr>\n",
       "    <tr>\n",
       "      <th>7</th>\n",
       "      <td>75.024746</td>\n",
       "      <td>46.554014</td>\n",
       "      <td>1</td>\n",
       "    </tr>\n",
       "  </tbody>\n",
       "</table>\n",
       "</div>"
      ],
      "text/plain": [
       "      Exam 1     Exam 2  Admitted\n",
       "0  34.623660  78.024693         0\n",
       "1  30.286711  43.894998         0\n",
       "2  35.847409  72.902198         0\n",
       "3  60.182599  86.308552         1\n",
       "4  79.032736  75.344376         1\n",
       "5  45.083277  56.316372         0\n",
       "6  61.106665  96.511426         1\n",
       "7  75.024746  46.554014         1"
      ]
     },
     "execution_count": 4,
     "metadata": {},
     "output_type": "execute_result"
    }
   ],
   "source": [
    "data.head(8)"
   ]
  },
  {
   "attachments": {},
   "cell_type": "markdown",
   "metadata": {},
   "source": [
    "Ex. 1."
   ]
  },
  {
   "cell_type": "code",
   "execution_count": 5,
   "metadata": {},
   "outputs": [],
   "source": [
    "X = data.values[:, :2].T\n",
    "y = data.values[:, 2:].T\n",
    "\n",
    "theta = np.zeros((X.shape[0]+1, 1))\n",
    "\n",
    "X = np.concatenate([np.ones([1, X.shape[1]]), X])\n",
    "\n",
    "for i in range(1, X.shape[0]):\n",
    "    X[i, :] = (X[i, :] - np.mean(X[i, :])) / (np.std(X[i, :]))"
   ]
  },
  {
   "attachments": {},
   "cell_type": "markdown",
   "metadata": {},
   "source": [
    "Ex. 2."
   ]
  },
  {
   "cell_type": "code",
   "execution_count": 6,
   "metadata": {},
   "outputs": [
    {
     "data": {
      "image/png": "[encoded data removed]",
      "text/plain": [
       "<Figure size 720x720 with 1 Axes>"
      ]
     },
     "metadata": {
      "needs_background": "light"
     },
     "output_type": "display_data"
    }
   ],
   "source": [
    "plt.figure(figsize=(10, 10))\n",
    "for i in range(y.shape[1]):\n",
    "    if y[0, i] == 1:   \n",
    "        plt.scatter(X[1, i], X[2, i], marker=\"+\", color='g')\n",
    "    else:\n",
    "        plt.scatter(X[1, i], X[2, i], marker='*', color='r')\n",
    "admitted = mpatches.Patch(color='g', label='Admitted')\n",
    "not_admitted = mpatches.Patch(color='r', label='Not admitted')\n",
    "plt.legend(handles=[admitted, not_admitted], loc='upper right')\n",
    "plt.xlabel(\"Exam 1 score\")\n",
    "plt.ylabel(\"Exam 2 score\")\n",
    "plt.show()"
   ]
  },
  {
   "attachments": {},
   "cell_type": "markdown",
   "metadata": {},
   "source": [
    "Ex. 3."
   ]
  },
  {
   "cell_type": "code",
   "execution_count": 7,
   "metadata": {},
   "outputs": [],
   "source": [
    "def sig(t):\n",
    "    e = 2.72\n",
    "    result = []\n",
    "    \n",
    "    for el in t:\n",
    "        equ = 1/(1+e**(-el))\n",
    "        result.append(equ)\n",
    "        \n",
    "    return result"
   ]
  },
  {
   "attachments": {},
   "cell_type": "markdown",
   "metadata": {},
   "source": [
    "Ex. 4."
   ]
  },
  {
   "cell_type": "code",
   "execution_count": 8,
   "metadata": {},
   "outputs": [
    {
     "data": {
      "image/png": "[encoded data removed]",
      "text/plain": [
       "<Figure size 432x288 with 1 Axes>"
      ]
     },
     "metadata": {
      "needs_background": "light"
     },
     "output_type": "display_data"
    }
   ],
   "source": [
    "vec = np.arange(-5, 5.5, 0.5)\n",
    "res_sig = sig(vec)\n",
    "\n",
    "plt.figure()\n",
    "plt.plot(vec, res_sig)\n",
    "plt.show()"
   ]
  },
  {
   "attachments": {},
   "cell_type": "markdown",
   "metadata": {},
   "source": [
    "Ex. 5."
   ]
  },
  {
   "cell_type": "code",
   "execution_count": 9,
   "metadata": {},
   "outputs": [],
   "source": [
    "def cost(theta, X, y):\n",
    "    h = theta.T @ X\n",
    "    sig_h = sig(h)\n",
    "    ones_list = np.ones(y.shape[1])\n",
    "    J = (-y @ np.log(sig_h).T - (ones_list-y)@np.log(ones_list-sig_h).T) / (X.shape[1])\n",
    "    return J[0,0]"
   ]
  },
  {
   "cell_type": "code",
   "execution_count": 10,
   "metadata": {},
   "outputs": [
    {
     "name": "stdout",
     "output_type": "stream",
     "text": [
      "0.6931471805599453\n"
     ]
    }
   ],
   "source": [
    "theta = np.zeros((X.shape[0], 1))\n",
    "print(cost(theta, X, y))"
   ]
  },
  {
   "attachments": {},
   "cell_type": "markdown",
   "metadata": {},
   "source": [
    "Ex. 6."
   ]
  },
  {
   "cell_type": "code",
   "execution_count": 11,
   "metadata": {},
   "outputs": [],
   "source": [
    "def simple_gradient(X, y, theta, alpha, it):\n",
    "    cost_t = []\n",
    "    \n",
    "    for i in range(it):\n",
    "        for j in range(theta.shape[0]):\n",
    "            theta[j, 0] = theta[j, 0] - alpha* ((sig(theta.T @ X)-y) @ np.matrix(X[j, :]).T) / X.shape[1]\n",
    "            cost_t.append(cost(theta, X, y))\n",
    "            \n",
    "        \n",
    "    return theta, cost_t"
   ]
  },
  {
   "cell_type": "code",
   "execution_count": 12,
   "metadata": {},
   "outputs": [
    {
     "name": "stdout",
     "output_type": "stream",
     "text": [
      "[array([[1.42860982],\n",
      "       [3.37872377],\n",
      "       [3.13366727]]), [0.6843919201540041, 0.6150661165469501, 0.5590219833732477, 0.5539695091004561, 0.5132770768789208, 0.4797539688060523, 0.47655841634674856, 0.45078960829285586, 0.42922268124288665, 0.4270017126405209, 0.4093735646214372, 0.3945274549978717, 0.3928673765377488, 0.3800473067422614, 0.36925250234851986, 0.3679445971424865, 0.3581800249881389, 0.3499845995168269, 0.3489142879752744, 0.34121103234633154, 0.33477243496589604, 0.3338718680187206, 0.3276269926372668, 0.32242771921609603, 0.32165405803106245, 0.3164809500978353, 0.3121874703233815, 0.3115121760177476, 0.30715128293395316, 0.30353972869200885, 0.3029429156157685, 0.29921324491315404, 0.2961280890579302, 0.29559536842761497, 0.2923666531017741, 0.28969661658173257, 0.28921724045876807, 0.2863931926242937, 0.2840566052947724, 0.28362232609756405, 0.28113014408662446, 0.27906572452242456, 0.2786700667398511, 0.2764536256484039, 0.27461448872691646, 0.2742522678388654, 0.27226756372534205, 0.2706172168853945, 0.2702842119020422, 0.2684962315417881, 0.267005833473291, 0.266698558000872, 0.2650790772268914, 0.26372551954770473, 0.26344105786001754, 0.26196706068326064, 0.2607315990246383, 0.260467486131416, 0.2591200085614523, 0.2579872683407155, 0.2577414005291488, 0.2565046710085649, 0.25546191370701343, 0.2552324806374218, 0.2540932715071805, 0.2531298452646592, 0.25291527760665794, 0.25186240924212394, 0.250969331959678, 0.2507682604311659, 0.24979221751091527, 0.24896185661747228, 0.24877307952598046, 0.24786571079912406, 0.24709153448739724, 0.24691399170535852, 0.24606827271970283, 0.24534465468196345, 0.24517740655715528, 0.2443872504102275, 0.24370931508435179, 0.24355152518341863, 0.24281163029090722, 0.24217512910913577, 0.2420260499725991, 0.24133177664962724, 0.24073298825009368, 0.24059194953851873, 0.2399392192101192, 0.23937486834186358, 0.23924126689922937, 0.23862647923223115, 0.23809367036980292, 0.23796696183794377, 0.23738692617632734, 0.23688308880337539, 0.23676278050173372, 0.23621465880070122, 0.23573750202126667, 0.23562314686677877, 0.2351044059334366, 0.23465188059307507, 0.23454307188116252, 0.23405144319545557, 0.23362171008960758, 0.23351807699274602, 0.23305152273935, 0.23264292578744125, 0.23254412945534456, 0.23210081367314117, 0.2317118571680378, 0.23161758733508347, 0.23119585130564843, 0.2308251805268948, 0.23073515254946814, 0.23033349371440073, 0.22997987833298275, 0.22989383059298174, 0.2295108844227995, 0.22917320423445894, 0.22909089585607886, 0.2287254201989278, 0.22840265280933866, 0.22832386164503204, 0.22797472316775746, 0.2276659333214196, 0.22759045417005552, 0.2272566165718858, 0.22696094687136426, 0.2268885898974385, 0.22656910363120944, 0.2262857664373605, 0.22621635576489502, 0.2259103490451156, 0.22563861938449695, 0.22557199184322335, 0.2252786627564712, 0.22501787209100413, 0.22495387609571268, 0.22467248565849005, 0.2244220163959993, 0.22436051094267526, 0.22409037697624767, 0.2238496576198174, 0.22379051138448616, 0.2235310030963795, 0.22329950394636428, 0.22324259447450004, 0.22299312765304846, 0.22277035698873135, 0.2227155699647205, 0.22247560270697814, 0.2222611033857884, 0.22220833197332523, 0.22197736087828737, 0.221770707299595, 0.22171985154506973, 0.2214974083139093, 0.22129820370203337, 0.2212491699939806, 0.22103481838721378, 0.22084269235468174, 0.22079539293322473, 0.22058872604165417, 0.22040333239914334, 0.22035768491011182, 0.22015832270226515, 0.21997933748622184, 0.21993526457526372, 0.21974285168903393, 0.2195699713818341, 0.21952740032439658, 0.21934160407483774, 0.21917454399565167, 0.21913340635918854, 0.21895391493805205, 0.21879240778538572, 0.21875263912056586, 0.21857915996627003, 0.2184229544955675, 0.2183844940536249, 0.218216752373022, 0.21806561219478005, 0.2180284026684635, 0.21786614009406835, 0.2177198425796963, 0.21768382986555687, 0.21752680323388482, 0.2173851385180791, 0.21735027149807798, 0.21719825173645824, 0.21706102180619402, 0.2170272521468281, 0.21688002325754765, 0.2167470411189411, 0.21671432308627409, 0.21657168121820092, 0.21644277013350335, 0.21641106042265687, 0.21627281302161955, 0.21614780580947696, 0.2161170633872851, 0.2159830284174695, 0.21586176681034658, 0.21583195277000752, 0.21570195799949216, 0.21558429205282983, 0.2155553694795049, 0.21542925182381026, 0.21531503937207197, 0.21528697321848653, 0.21516457813667664, 0.2150536842919551, 0.21502644126314713, 0.21490762220160378, 0.2147999188909149, 0.21477346733735891, 0.2146580852168627, 0.21455345075465423, 0.21452776057306303, 0.21441568331526834, 0.21431400200802567, 0.21428904454919628, 0.2141801466389881, 0.21408130841913375, 0.21405705640226372, 0.21395121848284013, 0.21385511856940234, 0.21383154600235524, 0.21372865450019368, 0.21363519308396658, 0.21361227518901213, 0.21351222196615766, 0.21342130391729733, 0.2133990170618949, 0.21330169909325852, 0.21321323368945444, 0.21319155532168688, 0.21309687439526356, 0.21301077506880084, 0.21298968365709942, 0.21289754609521436, 0.21281373019740035, 0.21279320517423414, 0.21270352157410247, 0.21262191015567034, 0.21260193186489926, 0.21251461685694473, 0.21243513446317278, 0.21241568411079192, 0.21233065613331037, 0.21225323061271126, 0.2122342902207347, 0.2121514713096172, 0.21207603363515026, 0.2120575859984049, 0.21197690159075108, 0.21190338569260445, 0.2118854143382223, 0.21180679308877587, 0.21173513569784738, 0.21171762484726336, 0.21164099845669684, 0.2115711389579775, 0.21155407349125396, 0.21147937654541252, 0.21141125684054343, 0.2113946222628582, 0.21132179208214918, 0.2112553564604843, 0.21123913887063098, 0.21116811536881472, 0.21110331038637717, 0.21108749644713906, 0.2110182219988374, 0.21095499636460707, 0.2109395732748761, 0.21087199259117376, 0.21081029706018944, 0.21079525252871278, 0.21072931254027452, 0.21066909981307647, 0.2106544220337201, 0.2105900717808979, 0.21053129640887164, 0.21051697403730188, 0.21045416456674323, 0.21039678286296365, 0.2103828049946513, 0.2103214892619632, 0.2102654592171657, 0.21025181536662788, 0.21019194814468214, 0.21013722934801893, 0.2101239094292174, 0.21006544722171847, 0.2100120007859822, 0.20999899509380465, 0.209941896053767, 0.2098896845447895, 0.20987698373754504, 0.20982120759035675, 0.20977019496031127, 0.20975779004317552, 0.20970329801394705, 0.20965344953830353, 0.2096413318476544, 0.20958808659257577, 0.2095393688104756, 0.20952752999906477, 0.2094754955405129, 0.20942787619834835, 0.2094163082212566, 0.209365449886415, 0.2093188978844126, 0.20930759298574167, 0.20925787734851084, 0.20921236269013277, 0.2092013133903893, 0.2091527082163833, 0.20910820196037405, 0.20909740104450322, 0.20904987523894106, 0.20900634945385807, 0.20899578995989032, 0.20894931351820467, 0.20890674123928438, 0.20889641644755666, 0.20885096040855622, 0.20880931559677493, 0.2087992190196948, 0.20875475542112545, 0.20871401292432565, 0.2087041382966459, 0.20866064013300842, 0.20862077564896986, 0.2086111169185444, 0.20856855810103533, 0.20852954814237676, 0.20852009946137018, 0.20847845477982163, 0.20844027664062886, 0.20843103235715488, 0.20839027744385683, 0.20835290916793725, 0.20834386381810055, 0.20830397511339804, 0.20826739546407058, 0.2082585437643906, 0.20821949848395413, 0.20818368691528746, 0.20817502375548266, 0.20813679985915706, 0.20810173648857608, 0.20809325692468883, 0.20805583308683262, 0.2080214986690165, 0.20801319791686063, 0.2079765534980922, 0.20794292940009507, 0.2079348028290074, 0.20789891784928108, 0.2078659860268066, 0.20785802915368767, 0.2078228842666266, 0.20779062724139621, 0.2077828357250234, 0.20774841219344126, 0.20771681303159595, 0.20770918266719585, 0.20767546233974288, 0.20764450463122508, 0.20763703134529046, 0.2076039966341644, 0.2075736644730268, 0.2075663443183664, 0.20753397817803176, 0.20750425614362628, 0.20749708529463426, 0.20746537120149655, 0.20743624434049643, 0.20742921908863118, 0.2073981410216165, 0.20736959483082948, 0.20736271158029101, 0.20733225400228456, 0.2073042744122163, 0.20729752967581128, 0.20726767751590994, 0.20724025087503983, 0.20723364127022598, 0.20720437990676413, 0.20717749296649765, 0.20717101521159798, 0.20714233045590674, 0.20711597035617038, 0.20710962126674898, 0.20708149934761289, 0.20705565360306033, 0.20704943008845106, 0.2070218576372266, 0.2069965141240253, 0.20699041318400777, 0.20696337722037156, 0.2069385241635417, 0.20693254288515495, 0.2069060308034505, 0.20688165676472983, 0.206875792319219, 0.20684979187537306, 0.2068258857415818, 0.20682013538147045, 0.20679463468045045, 0.20677118565233285, 0.20676554670861536, 0.20674053419240337, 0.20671753177392233, 0.20671200165337056, 0.20668746608942792, 0.20666490007749283, 0.2066594762600714, 0.2066354067302715, 0.20661326720487735, 0.2066079472412632, 0.20658433313126984, 0.2065626104460298, 0.2065573919552303, 0.20653422294430115, 0.2065129077173535, 0.2065077883844194, 0.20648505443561485, 0.20646413754088772, 0.20645911511471587, 0.20643680646549428, 0.20641627902431137, 0.2064113513155339, 0.2063894584687157, 0.20636931184172802, 0.20636447672068328, 0.2063429904357673, 0.206323216215196, 0.20631847160997802, 0.2062973828947939, 0.20627797289697022, 0.20627331679155325, 0.20625261689423532, 0.20623356315242433, 0.2062289935848593, 0.20620867398612613, 0.2061899687436226]]\n"
     ]
    }
   ],
   "source": [
    "alpha = 1\n",
    "it = 150\n",
    "\n",
    "[theta, cost_t] = simple_gradient(X, y, theta, alpha, it)\n",
    "print([theta, cost_t])"
   ]
  },
  {
   "attachments": {},
   "cell_type": "markdown",
   "metadata": {},
   "source": [
    "Ex. 7."
   ]
  },
  {
   "cell_type": "code",
   "execution_count": 13,
   "metadata": {},
   "outputs": [
    {
     "name": "stdout",
     "output_type": "stream",
     "text": [
      "0.89\n"
     ]
    }
   ],
   "source": [
    "pred = (sig(theta.T @ X)[0] >= 0.5).astype(int).flatten()\n",
    "data[\"Prediction\"] = pred\n",
    "acc = (data['Admitted'] == data['Prediction']).sum() / data.shape[0]\n",
    "print(acc)\n",
    "\n"
   ]
  },
  {
   "attachments": {},
   "cell_type": "markdown",
   "metadata": {},
   "source": [
    "Ex. 8."
   ]
  },
  {
   "cell_type": "code",
   "execution_count": 14,
   "metadata": {},
   "outputs": [
    {
     "data": {
      "image/png": "[encoded data removed]",
      "text/plain": [
       "<Figure size 720x432 with 1 Axes>"
      ]
     },
     "metadata": {
      "needs_background": "light"
     },
     "output_type": "display_data"
    }
   ],
   "source": [
    "x1 = np.arange(-2.0, 2.0, 0.1)\n",
    "x2 = -theta[1, 0]/theta[2, 0] * x1 - theta[0, 0]/theta[2, ]\n",
    "plt.figure(figsize=(10, 6))\n",
    "plt.plot(x1, x2)\n",
    "X1_1 = X[1, y[0, :] == 1.0]\n",
    "X2_1 = X[2, y[0, :] == 1.0]\n",
    "X1_0 = X[1, y[0, :] == 0.0]\n",
    "X2_0 = X[2, y[0, :] == 0.0]\n",
    "plt.plot(X1_1, X2_1, 'o', c='g')\n",
    "plt.plot(X1_0, X2_0, 'x', c='r')\n",
    "plt.xlabel(\"Excam 1 score\")\n",
    "plt.ylabel(\"Exam 2 score\")\n",
    "admitted = mpatches.Patch(color='g', label='Admitted')\n",
    "not_admitted = mpatches.Patch(color='r', label='Not admitted')\n",
    "plt.legend(handles=[admitted, not_admitted], loc='upper right')\n",
    "plt.show()"
   ]
  },
  {
   "attachments": {},
   "cell_type": "markdown",
   "metadata": {},
   "source": [
    "# --------------------------------------------"
   ]
  },
  {
   "cell_type": "code",
   "execution_count": 15,
   "metadata": {},
   "outputs": [],
   "source": [
    "import numpy as np\n",
    "import matplotlib.pyplot as plt\n",
    "from sklearn.linear_model import LogisticRegression\n",
    "from sklearn import datasets\n",
    "from sklearn.metrics import fbeta_score, make_scorer\n",
    " \n",
    "iris = datasets.load_iris()\n",
    "X = iris.data[:, :2]  # we are analyzing only 2 parameters\n",
    "Y = iris.target\n",
    "\n",
    "clf = LogisticRegression(random_state=0).fit(X, Y)"
   ]
  },
  {
   "cell_type": "code",
   "execution_count": 16,
   "metadata": {},
   "outputs": [
    {
     "data": {
      "image/png": "[encoded data removed]",
      "text/plain": [
       "<Figure size 720x504 with 1 Axes>"
      ]
     },
     "metadata": {},
     "output_type": "display_data"
    }
   ],
   "source": [
    "# Plot the decision boundary. For that, we will assign a color to each\n",
    "# point in the mesh [x_min, x_max]x[y_min, y_max].\n",
    "x_min, x_max = X[:, 0].min() - .5, X[:, 0].max() + .5\n",
    "y_min, y_max = X[:, 1].min() - .5, X[:, 1].max() + .5\n",
    "h = .02  # step size in the mesh\n",
    "xx, yy = np.meshgrid(np.arange(x_min, x_max, h), np.arange(y_min, y_max, h))\n",
    "Z = clf.predict(np.c_[xx.ravel(), yy.ravel()])\n",
    "W = clf.predict(X)\n",
    "# Put the result into a color plot\n",
    "Z = Z.reshape(xx.shape)\n",
    "plt.figure(1, figsize=(10, 7))\n",
    "plt.pcolormesh(xx, yy, Z, cmap=plt.cm.Paired, shading = 'auto')\n",
    " \n",
    "# Plot also the training points\n",
    "plt.scatter(X[:, 0], X[:, 1], c=Y, edgecolors='k', cmap=plt.cm.Paired)\n",
    "plt.xlabel('Sepal length')\n",
    "plt.ylabel('Sepal width')\n",
    " \n",
    "plt.xlim(xx.min(), xx.max())\n",
    "plt.ylim(yy.min(), yy.max())\n",
    "plt.xticks(())\n",
    "plt.yticks(())\n",
    " \n",
    "plt.show()"
   ]
  },
  {
   "attachments": {},
   "cell_type": "markdown",
   "metadata": {},
   "source": [
    "Ex. 3."
   ]
  },
  {
   "cell_type": "code",
   "execution_count": 17,
   "metadata": {},
   "outputs": [
    {
     "data": {
      "text/plain": [
       "0.82"
      ]
     },
     "execution_count": 17,
     "metadata": {},
     "output_type": "execute_result"
    }
   ],
   "source": [
    "clf.predict_proba(X[:2, :])\n",
    "clf.score(X, Y)"
   ]
  },
  {
   "attachments": {},
   "cell_type": "markdown",
   "metadata": {},
   "source": [
    "Ex. 4."
   ]
  },
  {
   "cell_type": "code",
   "execution_count": 20,
   "metadata": {},
   "outputs": [
    {
     "name": "stdout",
     "output_type": "stream",
     "text": [
      "Accuracy score:  0.82\n",
      "Cohen kappa score:  0.73\n"
     ]
    }
   ],
   "source": [
    "from sklearn.metrics import accuracy_score, cohen_kappa_score\n",
    "print(\"Accuracy score: \", accuracy_score(Y, W))\n",
    "print(\"Cohen kappa score: \", cohen_kappa_score(Y, W))"
   ]
  }
 ],
 "metadata": {
  "kernelspec": {
   "display_name": "Python 3",
   "language": "python",
   "name": "python3"
  },
  "language_info": {
   "codemirror_mode": {
    "name": "ipython",
    "version": 3
   },
   "file_extension": ".py",
   "mimetype": "text/x-python",
   "name": "python",
   "nbconvert_exporter": "python",
   "pygments_lexer": "ipython3",
   "version": "3.6.8rc1"
  },
  "orig_nbformat": 4
 },
 "nbformat": 4,
 "nbformat_minor": 2
}
