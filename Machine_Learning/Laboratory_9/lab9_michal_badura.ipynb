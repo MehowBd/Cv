{
 "cells": [
  {
   "attachments": {},
   "cell_type": "markdown",
   "metadata": {},
   "source": [
    "# Fitting the model to whole dataset"
   ]
  },
  {
   "cell_type": "code",
   "execution_count": 14,
   "metadata": {},
   "outputs": [
    {
     "data": {
      "text/plain": [
       "GradientBoostingClassifier(learning_rate=1.0, max_depth=1, random_state=1,\n",
       "                           subsample=0.5)"
      ]
     },
     "execution_count": 14,
     "metadata": {},
     "output_type": "execute_result"
    }
   ],
   "source": [
    "import numpy as np\n",
    "import matplotlib.pyplot as plt\n",
    "import sklearn.datasets as ds\n",
    "from sklearn.tree import DecisionTreeClassifier as DTC\n",
    "from sklearn.ensemble import BaggingClassifier as BC\n",
    "from sklearn.ensemble import AdaBoostClassifier as ABC\n",
    "from sklearn.ensemble import GradientBoostingClassifier as GBC\n",
    "from sklearn.model_selection import cross_val_score as CVS\n",
    "\n",
    "wine = ds.load_wine()\n",
    "X = wine.data\n",
    "y = wine.target\n",
    "\n",
    "model_DTC = DTC(min_samples_leaf=3, random_state=1)\n",
    "model_BC = BC(base_estimator=model_DTC, n_estimators=100, random_state=1)\n",
    "model_ABC = ABC(base_estimator=model_DTC, n_estimators=100, algorithm='SAMME', random_state=1)\n",
    "model_GBC = GBC(n_estimators=100, learning_rate=1.0, max_depth=1, subsample=0.5, random_state=1)\n",
    "\n",
    "model_DTC.fit(X,y)\n",
    "model_BC.fit(X,y)\n",
    "model_ABC.fit(X,y)\n",
    "model_GBC.fit(X,y)"
   ]
  },
  {
   "cell_type": "code",
   "execution_count": 15,
   "metadata": {},
   "outputs": [
    {
     "name": "stdout",
     "output_type": "stream",
     "text": [
      "Decision tree scores: [0.94444444 0.80555556 0.80555556 0.91428571 0.97142857] (avg: 0.8882539682539681 )\n",
      "Bagging scores: [0.91666667 0.88888889 0.94444444 0.97142857 1.        ] (avg: 0.9442857142857143 )\n",
      "AdaBoost scores: [0.94444444 0.94444444 0.97222222 0.97142857 1.        ] (avg: 0.9665079365079364 )\n",
      "Gradient Boosting scores: [0.88888889 0.94444444 1.         0.97142857 1.        ] avg: 0.9609523809523809 )\n"
     ]
    }
   ],
   "source": [
    "print(\"Decision tree scores:\", CVS(model_DTC, X, y), '(avg:', np.mean(CVS(model_DTC, X, y)),')')\n",
    "print(\"Bagging scores:\", CVS(model_BC, X, y), '(avg:', np.mean(CVS(model_BC, X, y)), ')')\n",
    "print(\"AdaBoost scores:\", CVS(model_ABC, X, y), '(avg:', np.mean(CVS(model_ABC, X, y)), ')')\n",
    "print(\"Gradient Boosting scores:\", CVS(model_GBC, X, y), 'avg:', np.mean(CVS(model_GBC, X, y)),')')"
   ]
  },
  {
   "attachments": {},
   "cell_type": "markdown",
   "metadata": {},
   "source": [
    "# Computing the cumulative improvement and plotting"
   ]
  },
  {
   "cell_type": "code",
   "execution_count": 16,
   "metadata": {},
   "outputs": [
    {
     "data": {
      "image/png": "[encoded data removed]",
      "text/plain": [
       "<Figure size 432x288 with 1 Axes>"
      ]
     },
     "metadata": {
      "needs_background": "light"
     },
     "output_type": "display_data"
    }
   ],
   "source": [
    "cumulative_improvement = np.cumsum(model_GBC.oob_improvement_)\n",
    "plt.plot(cumulative_improvement)\n",
    "plt.title('Cumulative improvement')\n",
    "plt.xlabel('Number of trees')\n",
    "plt.ylabel('Improvement')\n",
    "plt.grid()\n",
    "plt.show()"
   ]
  }
 ],
 "metadata": {
  "kernelspec": {
   "display_name": "Python 3",
   "language": "python",
   "name": "python3"
  },
  "language_info": {
   "codemirror_mode": {
    "name": "ipython",
    "version": 3
   },
   "file_extension": ".py",
   "mimetype": "text/x-python",
   "name": "python",
   "nbconvert_exporter": "python",
   "pygments_lexer": "ipython3",
   "version": "3.6.8rc1"
  },
  "orig_nbformat": 4
 },
 "nbformat": 4,
 "nbformat_minor": 2
}
