{
 "cells": [
  {
   "cell_type": "markdown",
   "metadata": {
    "collapsed": false
   },
   "source": [
    "Sprawozdanie 2: Łączenie z bazą danych i instrukcja SELECT\n",
    "<br>\n",
    "Autor: Michał Badura, numer albumu: 407049"
   ]
  },
  {
   "cell_type": "code",
   "execution_count": 1,
   "metadata": {
    "collapsed": false
   },
   "outputs": [
    {
     "name": "stdout",
     "output_type": "stream",
     "text": [
      "    category_id         name         last_update\n",
      "0             1       Action 2006-02-15 09:46:27\n",
      "1             2    Animation 2006-02-15 09:46:27\n",
      "2             3     Children 2006-02-15 09:46:27\n",
      "3             4     Classics 2006-02-15 09:46:27\n",
      "4             5       Comedy 2006-02-15 09:46:27\n",
      "5             6  Documentary 2006-02-15 09:46:27\n",
      "6             7        Drama 2006-02-15 09:46:27\n",
      "7             8       Family 2006-02-15 09:46:27\n",
      "8             9      Foreign 2006-02-15 09:46:27\n",
      "9            10        Games 2006-02-15 09:46:27\n",
      "10           11       Horror 2006-02-15 09:46:27\n",
      "11           12        Music 2006-02-15 09:46:27\n",
      "12           13          New 2006-02-15 09:46:27\n",
      "13           14       Sci-Fi 2006-02-15 09:46:27\n",
      "14           15       Sports 2006-02-15 09:46:27\n",
      "15           16       Travel 2006-02-15 09:46:27\n"
     ]
    }
   ],
   "source": [
    "import psycopg2 as pg\n",
    "import pandas as pd\n",
    "\n",
    "connection = pg.connect(host='pgsql-196447.vipserv.org', port=5432, dbname='wbauer_adb', user='wbauer_adb', password='adb2020')\n",
    "\n",
    "category = pd.read_sql(\"select * \"\n",
    "                       \"from category\",con=connection)\n",
    "print(category)"
   ]
  },
  {
   "cell_type": "markdown",
   "metadata": {
    "collapsed": false
   },
   "source": [
    "Ćwiczenie 1:"
   ]
  },
  {
   "cell_type": "code",
   "execution_count": 2,
   "metadata": {
    "collapsed": false
   },
   "outputs": [
    {
     "name": "stdout",
     "output_type": "stream",
     "text": [
      "Liczba kategorii filmów wynosi: \n",
      "    count\n",
      "0     16\n"
     ]
    }
   ],
   "source": [
    "number = pd.read_sql(\"select count(name) \"\n",
    "                     \"from category\",con=connection)\n",
    "\n",
    "print(\"Liczba kategorii filmów wynosi: \\n {}\".format(number))"
   ]
  },
  {
   "cell_type": "markdown",
   "metadata": {
    "collapsed": false
   },
   "source": [
    "Ćwiczenie 2:"
   ]
  },
  {
   "cell_type": "code",
   "execution_count": 3,
   "metadata": {
    "collapsed": false
   },
   "outputs": [
    {
     "name": "stdout",
     "output_type": "stream",
     "text": [
      "           name\n",
      "0        Action\n",
      "1     Animation\n",
      "2      Children\n",
      "3      Classics\n",
      "4        Comedy\n",
      "5   Documentary\n",
      "6         Drama\n",
      "7        Family\n",
      "8       Foreign\n",
      "9         Games\n",
      "10       Horror\n",
      "11        Music\n",
      "12          New\n",
      "13       Sci-Fi\n",
      "14       Sports\n",
      "15       Travel\n"
     ]
    }
   ],
   "source": [
    "\n",
    "alphabetical = pd.read_sql(\"select name \"\n",
    "                           \"from category \"\n",
    "                           \"order by name ASC\",con=connection)\n",
    "print(alphabetical)"
   ]
  },
  {
   "cell_type": "markdown",
   "metadata": {
    "collapsed": false
   },
   "source": [
    "Ćwiczenie 3:"
   ]
  },
  {
   "cell_type": "code",
   "execution_count": 4,
   "metadata": {
    "collapsed": false
   },
   "outputs": [
    {
     "name": "stdout",
     "output_type": "stream",
     "text": [
      "Najstarszy film:              title\n",
      "0  Chamber Italian \n",
      "\n",
      "Najmłodszy film:              title\n",
      "0  Chamber Italian \n",
      "\n"
     ]
    }
   ],
   "source": [
    "oldest = pd.read_sql(\"select title \"\n",
    "                     \"from film \"\n",
    "                     \"order by release_year ASC \"\n",
    "                     \"limit 1\", con=connection)\n",
    "\n",
    "youngest = pd.read_sql(\"select title \"\n",
    "                       \"from film \"\n",
    "                       \"order by release_year DESC \"\n",
    "                       \"limit 1\", con=connection)\n",
    "print(\"Najstarszy film: {} \\n\".format(oldest))\n",
    "print(\"Najmłodszy film: {} \\n\".format(youngest))\n"
   ]
  },
  {
   "cell_type": "markdown",
   "metadata": {
    "collapsed": false
   },
   "source": [
    "Ćwiczenie 4:"
   ]
  },
  {
   "cell_type": "code",
   "execution_count": 5,
   "metadata": {
    "collapsed": false
   },
   "outputs": [
    {
     "name": "stdout",
     "output_type": "stream",
     "text": [
      "   count\n",
      "0   6709\n"
     ]
    }
   ],
   "source": [
    "rental_between = pd.read_sql(\"select count(rental_date) \"\n",
    "                             \"from rental \"\n",
    "                             \"where rental_date \"\n",
    "                             \"between '2005-07-01T00:00:00.00' and '2005-08-01T00:00:00.00'\", con=connection)\n",
    "print(rental_between)"
   ]
  },
  {
   "cell_type": "markdown",
   "metadata": {
    "collapsed": false
   },
   "source": [
    "Ćwiczenie 5:"
   ]
  },
  {
   "cell_type": "code",
   "execution_count": 6,
   "metadata": {
    "collapsed": false
   },
   "outputs": [
    {
     "name": "stdout",
     "output_type": "stream",
     "text": [
      "   count\n",
      "0      0\n"
     ]
    }
   ],
   "source": [
    "rental_between2 = pd.read_sql(\"select count(rental_date) \"\n",
    "                             \"from rental \"\n",
    "                             \"where rental_date \"\n",
    "                             \"between '2010-01-01T00:00:00.00' and '2011-02-01T00:00:00.00'\", con=connection)\n",
    "print(rental_between2)\n"
   ]
  },
  {
   "cell_type": "markdown",
   "metadata": {
    "collapsed": false
   },
   "source": [
    "Ćwiczenie 6:"
   ]
  },
  {
   "cell_type": "code",
   "execution_count": 7,
   "metadata": {
    "collapsed": false
   },
   "outputs": [
    {
     "name": "stdout",
     "output_type": "stream",
     "text": [
      "   amount\n",
      "0   11.99\n"
     ]
    }
   ],
   "source": [
    "biggest_payment = pd.read_sql(\"select amount \"\n",
    "                              \"from payment \"\n",
    "                              \"order by amount DESC \"\n",
    "                              \"limit 1\", con=connection)\n",
    "print(biggest_payment)"
   ]
  },
  {
   "cell_type": "markdown",
   "metadata": {
    "collapsed": false
   },
   "source": [
    "Ćwiczenie 7:"
   ]
  },
  {
   "cell_type": "code",
   "execution_count": 8,
   "metadata": {
    "collapsed": false
   },
   "outputs": [
    {
     "name": "stdout",
     "output_type": "stream",
     "text": [
      "    customer_id  store_id first_name  last_name\n",
      "0           284         1      Sonia    Gregory\n",
      "1           318         1      Brian      Wyman\n",
      "2           572         1     Sidney   Burleson\n",
      "3           409         2     Rodney    Moeller\n",
      "4           332         1    Stephen     Qualls\n",
      "5           286         1      Velma      Lucas\n",
      "6            80         1    Marilyn       Ross\n",
      "7           198         2      Elsie     Kelley\n",
      "8           103         1     Gladys   Hamilton\n",
      "9           329         2      Frank   Waggoner\n",
      "10          128         1   Marjorie     Tucker\n",
      "11           18         2      Carol     Garcia\n",
      "12          270         1       Leah     Curtis\n",
      "13          501         1      Ruben      Geary\n",
      "14          277         2       Olga    Jimenez\n",
      "15          156         1     Bertha   Ferguson\n",
      "16          280         2     Tracey    Barrett\n",
      "17          250         2         Jo     Fowler\n",
      "18          571         2    Johnnie   Chisholm\n",
      "19          562         1    Wallace      Slone\n",
      "20           21         1   Michelle      Clark\n",
      "21          380         1    Russell    Brinson\n",
      "22          558         1     Jimmie  Eggleston\n",
      "23          232         2  Constance       Reid\n"
     ]
    }
   ],
   "source": [
    "clients = pd.read_sql(\"select customer.customer_id, customer.store_id, customer.first_name, customer.last_name \"\n",
    "                      \"from customer \"\n",
    "                      \"left join address \"\n",
    "                      \"on customer.address_id = address.address_id \"\n",
    "                      \"left join city \"\n",
    "                      \"on address.city_id = city.city_id \"\n",
    "                      \"left join country \"\n",
    "                      \"on city.country_id = country.country_id \"\n",
    "                      \"where country in ('Poland', 'Nigeria', 'Bangladesh')\", con=connection)\n",
    "print(clients)"
   ]
  },
  {
   "cell_type": "markdown",
   "metadata": {
    "collapsed": false
   },
   "source": [
    "Ćwiczenie 8:"
   ]
  },
  {
   "cell_type": "code",
   "execution_count": 9,
   "metadata": {
    "collapsed": false
   },
   "outputs": [
    {
     "name": "stdout",
     "output_type": "stream",
     "text": [
      "   staff_id first_name last_name    country\n",
      "0         1       Mike   Hillyer     Canada\n",
      "1         2        Jon  Stephens  Australia\n"
     ]
    }
   ],
   "source": [
    "origin = pd.read_sql(\"select staff.staff_id, staff.first_name, staff.last_name, country.country \"\n",
    "                     \"from staff \"\n",
    "                     \"left join address \"\n",
    "                     \"on staff.address_id = address.address_id \"\n",
    "                     \"left join city \"\n",
    "                     \"on address.city_id = city.city_id \"\n",
    "                     \"left join country \"\n",
    "                     \"on city.country_id = country.country_id\", con=connection)\n",
    "print(origin)"
   ]
  },
  {
   "cell_type": "markdown",
   "metadata": {
    "collapsed": false
   },
   "source": [
    "Ćwiczenie 9:"
   ]
  },
  {
   "cell_type": "code",
   "execution_count": 10,
   "metadata": {
    "collapsed": false
   },
   "outputs": [
    {
     "name": "stdout",
     "output_type": "stream",
     "text": [
      "Liczba pracowników w Hiszpanii i Argentynie: \n",
      "    count\n",
      "0      0\n"
     ]
    }
   ],
   "source": [
    "num = pd.read_sql(\"select count(staff.staff_id) \"\n",
    "                  \"from staff \"\n",
    "                  \"left join address \"\n",
    "                  \"on staff.address_id = address.address_id \"\n",
    "                  \"left join city \"\n",
    "                  \"on address.city_id = city.city_id \"\n",
    "                  \"left join country \"\n",
    "                  \"on city.country_id = country.country_id \"\n",
    "                  \"where country in ('Argentina', 'Spain')\", con=connection)\n",
    "print(\"Liczba pracowników w Hiszpanii i Argentynie: \\n {}\".format(num))"
   ]
  },
  {
   "cell_type": "markdown",
   "metadata": {
    "collapsed": false
   },
   "source": [
    "Ćwiczenie 10:"
   ]
  },
  {
   "cell_type": "code",
   "execution_count": 11,
   "metadata": {
    "collapsed": false
   },
   "outputs": [
    {
     "name": "stdout",
     "output_type": "stream",
     "text": [
      "           name\n",
      "0        Sports\n",
      "1      Classics\n",
      "2           New\n",
      "3        Family\n",
      "4        Comedy\n",
      "5     Animation\n",
      "6        Travel\n",
      "7         Music\n",
      "8         Drama\n",
      "9        Horror\n",
      "10       Sci-Fi\n",
      "11        Games\n",
      "12  Documentary\n",
      "13      Foreign\n",
      "14       Action\n",
      "15     Children\n"
     ]
    }
   ],
   "source": [
    "rented = pd.read_sql(\"select distinct category.name \"\n",
    "                     \"from category \"\n",
    "                     \"inner join film_category \"\n",
    "                     \"on category.category_id = film_category.category_id \"\n",
    "                     \"inner join film \"\n",
    "                     \"on film_category.film_id = film.film_id \"\n",
    "                     \"inner join inventory \"\n",
    "                     \"on film.film_id = inventory.film_id \"\n",
    "                     \"inner join rental \"\n",
    "                     \"on inventory.inventory_id = rental.inventory_id\", con=connection)\n",
    "print(rented)"
   ]
  },
  {
   "cell_type": "markdown",
   "metadata": {
    "collapsed": false
   },
   "source": [
    "Ćwiczenie 11:"
   ]
  },
  {
   "cell_type": "code",
   "execution_count": 12,
   "metadata": {
    "collapsed": false
   },
   "outputs": [
    {
     "name": "stdout",
     "output_type": "stream",
     "text": [
      "Empty DataFrame\n",
      "Columns: [name]\n",
      "Index: []\n",
      "Nie wypożyczono żadnego filmu\n"
     ]
    }
   ],
   "source": [
    "rented_us = pd.read_sql(\"select distinct category.name \"\n",
    "                     \"from category \"\n",
    "                     \"inner join film_category \"\n",
    "                     \"on category.category_id = film_category.category_id \"\n",
    "                     \"inner join film \"\n",
    "                     \"on film_category.film_id = film.film_id \"\n",
    "                     \"inner join inventory \"\n",
    "                     \"on film.film_id = inventory.film_id \"\n",
    "                     \"inner join rental \"\n",
    "                     \"on inventory.inventory_id = rental.inventory_id \"\n",
    "                     \"inner join staff \"\n",
    "                     \"on rental.staff_id = staff.staff_id \"\n",
    "                     \"inner join store \"\n",
    "                     \"on staff.store_id = store.store_id \"\n",
    "                     \"inner join address \"\n",
    "                     \"on store.address_id = address.address_id \"\n",
    "                     \"inner join city \"\n",
    "                     \"on address.city_id = city.city_id \"\n",
    "                     \"inner join country \"\n",
    "                     \"on city.country_id = country.country_id \"\n",
    "                     \"where country.country in ('United States')\", con=connection)\n",
    "print(rented_us)\n",
    "print(\"Nie wypożyczono żadnego filmu\")"
   ]
  },
  {
   "cell_type": "markdown",
   "metadata": {
    "collapsed": false
   },
   "source": [
    "Ćwiczenie 12:"
   ]
  },
  {
   "cell_type": "code",
   "execution_count": 13,
   "metadata": {
    "collapsed": false
   },
   "outputs": [
    {
     "name": "stdout",
     "output_type": "stream",
     "text": [
      "                title\n",
      "0     Bilko Anonymous\n",
      "1   Caribbean Liberty\n",
      "2    Casper Dragonfly\n",
      "3    Empire Malkovich\n",
      "4       Floats Garden\n",
      "..                ...\n",
      "64       Outlaw Hanky\n",
      "65    Panky Submarine\n",
      "66   Rider Caddyshack\n",
      "67          Won Dares\n",
      "68      Wyoming Storm\n",
      "\n",
      "[69 rows x 1 columns]\n"
     ]
    }
   ],
   "source": [
    "titles = pd.read_sql(\"select film.title \"\n",
    "                     \"from film \"\n",
    "                     \"left join film_actor \"\n",
    "                     \"on film.film_id = film_actor.film_id \"\n",
    "                     \"left join actor \"\n",
    "                     \"on film_actor.actor_id = actor.actor_id \"\n",
    "                     \"where (first_name = 'Olympia' and last_name = 'Pfeiffer') or (first_name = 'Julia' and last_name = 'Zellweger') or (first_name = 'Ellen' and last_name = 'Presley')\", con=connection)\n",
    "print(titles)"
   ]
  }
 ],
 "metadata": {
  "kernelspec": {
   "display_name": "Python 3",
   "language": "python",
   "name": "python3"
  },
  "language_info": {
   "codemirror_mode": {
    "name": "ipython",
    "version": 3
   },
   "file_extension": ".py",
   "mimetype": "text/x-python",
   "name": "python",
   "nbconvert_exporter": "python",
   "pygments_lexer": "ipython3",
   "version": "3.6.8rc1"
  },
  "vscode": {
   "interpreter": {
    "hash": "1778477f87d852294550b860a1297c00ffbf593d33e20c62280352a280809d3d"
   }
  }
 },
 "nbformat": 4,
 "nbformat_minor": 0
}
