{
 "cells": [
  {
   "cell_type": "markdown",
   "source": [
    "Temat: Cwiczenie 1 - Data Scientist Toolbox"
   ],
   "metadata": {
    "collapsed": false
   },
   "outputs": []
  },
  {
   "cell_type": "markdown",
   "source": [
    "Autor: Michał Badura, number albumu: 407049"
   ],
   "metadata": {
    "collapsed": false
   }
  },
  {
   "cell_type": "markdown",
   "source": [
    "Zadanie 3:"
   ],
   "metadata": {
    "collapsed": false
   }
  },
  {
   "cell_type": "code",
   "execution_count": 1,
   "outputs": [
    {
     "data": {
      "text/plain": "<Figure size 432x288 with 1 Axes>",
      "image/png": "[encoded data removed]"
     },
     "metadata": {
      "needs_background": "light"
     },
     "output_type": "display_data"
    }
   ],
   "source": [
    "import numpy as np\n",
    "import matplotlib.pyplot as plt\n",
    "import pandas as pd\n",
    "\n",
    "def function(x : np.ndarray):\n",
    "    y = np.array([])\n",
    "    for i in x:\n",
    "        y = np.append(y, i**2 + 5)\n",
    "    return y\n",
    "# w tym miejscu stworzyłem funkcję potrzebną do wykonania zadania, następnie dla określonych przedziałów naniosę wartości tej funkcji na wykres\n",
    "\n",
    "x1 = np.linspace(-1.0,1.0) #przedziały dla x\n",
    "x2 = np.linspace(-6.0,6.0)\n",
    "x3 = np.linspace(0.0,5.0)\n",
    "\n",
    "# rysowanie wykresu i opisywanie go\n",
    "plt.plot(x2, function(x2))\n",
    "plt.plot(x3, function(x3))\n",
    "plt.plot(x1, function(x1))\n",
    "plt.xlabel(\"Wartości x\")\n",
    "plt.ylabel(\"Wartości funkcji\")\n",
    "plt.title(\"Wykres do zadania 3\")\n",
    "plt.legend([\"-6<x<6\", \"0<x<5\", \"-1<x<1\"], loc = 'upper center')\n",
    "plt.show()"
   ],
   "metadata": {
    "collapsed": false
   }
  },
  {
   "cell_type": "markdown",
   "source": [
    "Zadanie 4"
   ],
   "metadata": {
    "collapsed": false
   }
  },
  {
   "cell_type": "code",
   "execution_count": 2,
   "outputs": [
    {
     "name": "stdout",
     "output_type": "stream",
     "text": [
      "<class 'pandas.core.frame.DataFrame'>\n",
      "RangeIndex: 5 entries, 0 to 4\n",
      "Data columns (total 4 columns):\n",
      " #   Column   Non-Null Count  Dtype \n",
      "---  ------   --------------  ----- \n",
      " 0   name     5 non-null      object\n",
      " 1   surname  5 non-null      object\n",
      " 2   age      5 non-null      int32 \n",
      " 3   sex      5 non-null      object\n",
      "dtypes: int32(1), object(3)\n",
      "memory usage: 268.0+ bytes\n"
     ]
    }
   ],
   "source": [
    "#najpierw tworze np.array z podpisanymi kolumnami\n",
    "data = np.array([(\"Katarzyna\", \"Walczak\", 23, \"Woman\" ),\n",
    "                 (\"Bartosz\", \"Maciejewski\", 14, \"Man\"),\n",
    "                 (\"Tobiasz\", \"Turban\", 48, \"Man\"),\n",
    "                 (\"Michał\", \"Badura\", 21, \"Man\"),\n",
    "                 (\"Dawid\", \"Kopeć\", 21, \"Man\")],\n",
    "                dtype=[(\"name\", \"U25\"), (\"surname\", \"U25\"), (\"age\", \"i4\"), (\"sex\", \"U25\")])\n",
    "\n",
    "#tutaj tworze DataFrame z wcześniej stworzonego np.array z danymi\n",
    "data_frame = pd.DataFrame(data, columns = [\"name\", \"surname\", \"age\", \"sex\"])\n",
    "\n",
    "data_frame.info(verbose = \"True\")"
   ],
   "metadata": {
    "collapsed": false
   }
  },
  {
   "cell_type": "code",
   "execution_count": 3,
   "outputs": [
    {
     "data": {
      "text/plain": "             age\ncount   5.000000\nmean   25.400000\nstd    13.088163\nmin    14.000000\n25%    21.000000\n50%    21.000000\n75%    23.000000\nmax    48.000000",
      "text/html": "<div>\n<style scoped>\n    .dataframe tbody tr th:only-of-type {\n        vertical-align: middle;\n    }\n\n    .dataframe tbody tr th {\n        vertical-align: top;\n    }\n\n    .dataframe thead th {\n        text-align: right;\n    }\n</style>\n<table border=\"1\" class=\"dataframe\">\n  <thead>\n    <tr style=\"text-align: right;\">\n      <th></th>\n      <th>age</th>\n    </tr>\n  </thead>\n  <tbody>\n    <tr>\n      <th>count</th>\n      <td>5.000000</td>\n    </tr>\n    <tr>\n      <th>mean</th>\n      <td>25.400000</td>\n    </tr>\n    <tr>\n      <th>std</th>\n      <td>13.088163</td>\n    </tr>\n    <tr>\n      <th>min</th>\n      <td>14.000000</td>\n    </tr>\n    <tr>\n      <th>25%</th>\n      <td>21.000000</td>\n    </tr>\n    <tr>\n      <th>50%</th>\n      <td>21.000000</td>\n    </tr>\n    <tr>\n      <th>75%</th>\n      <td>23.000000</td>\n    </tr>\n    <tr>\n      <th>max</th>\n      <td>48.000000</td>\n    </tr>\n  </tbody>\n</table>\n</div>"
     },
     "execution_count": 3,
     "metadata": {},
     "output_type": "execute_result"
    }
   ],
   "source": [
    "data_frame.describe() #funkcja w tym wypadku opisuję syutacje związaną z wiekiem ludzi w DataFrame"
   ],
   "metadata": {
    "collapsed": false
   }
  },
  {
   "cell_type": "code",
   "execution_count": 4,
   "outputs": [
    {
     "data": {
      "text/plain": "        name      surname  age    sex\n0  Katarzyna      Walczak   23  Woman\n1    Bartosz  Maciejewski   14    Man\n2    Tobiasz       Turban   48    Man",
      "text/html": "<div>\n<style scoped>\n    .dataframe tbody tr th:only-of-type {\n        vertical-align: middle;\n    }\n\n    .dataframe tbody tr th {\n        vertical-align: top;\n    }\n\n    .dataframe thead th {\n        text-align: right;\n    }\n</style>\n<table border=\"1\" class=\"dataframe\">\n  <thead>\n    <tr style=\"text-align: right;\">\n      <th></th>\n      <th>name</th>\n      <th>surname</th>\n      <th>age</th>\n      <th>sex</th>\n    </tr>\n  </thead>\n  <tbody>\n    <tr>\n      <th>0</th>\n      <td>Katarzyna</td>\n      <td>Walczak</td>\n      <td>23</td>\n      <td>Woman</td>\n    </tr>\n    <tr>\n      <th>1</th>\n      <td>Bartosz</td>\n      <td>Maciejewski</td>\n      <td>14</td>\n      <td>Man</td>\n    </tr>\n    <tr>\n      <th>2</th>\n      <td>Tobiasz</td>\n      <td>Turban</td>\n      <td>48</td>\n      <td>Man</td>\n    </tr>\n  </tbody>\n</table>\n</div>"
     },
     "execution_count": 4,
     "metadata": {},
     "output_type": "execute_result"
    }
   ],
   "source": [
    "data_frame.head(3)"
   ],
   "metadata": {
    "collapsed": false
   }
  }
 ],
 "metadata": {
  "kernelspec": {
   "display_name": "Python 3",
   "language": "python",
   "name": "python3"
  },
  "language_info": {
   "codemirror_mode": {
    "name": "ipython",
    "version": 2
   },
   "file_extension": ".py",
   "mimetype": "text/x-python",
   "name": "python",
   "nbconvert_exporter": "python",
   "pygments_lexer": "ipython2",
   "version": "2.7.6"
  }
 },
 "nbformat": 4,
 "nbformat_minor": 0
}
