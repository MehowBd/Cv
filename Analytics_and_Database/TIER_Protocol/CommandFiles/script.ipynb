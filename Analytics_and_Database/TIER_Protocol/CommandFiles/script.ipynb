{
 "cells": [
  {
   "cell_type": "markdown",
   "source": [
    "Michał Badura, numer: 407049"
   ],
   "metadata": {
    "collapsed": false
   }
  },
  {
   "cell_type": "code",
   "execution_count": 1,
   "outputs": [
    {
     "data": {
      "text/plain": "      iso2  year  Cases sex      age\n0       AD  1996    0.0   f     0-14\n1       AD  1996    1.0   f    15-24\n2       AD  1996    1.0   f    25-34\n3       AD  1996    0.0   f    35-44\n4       AD  1996    0.0   f    45-54\n...    ...   ...    ...  ..      ...\n34155  NaN  2008  757.0   m    35-44\n34156  NaN  2008  346.0   m    45-54\n34157  NaN  2008  149.0   m    55-64\n34158  NaN  2008  132.0   m       65\n34159  NaN  2008    0.0   m  unknown\n\n[34160 rows x 5 columns]",
      "text/html": "<div>\n<style scoped>\n    .dataframe tbody tr th:only-of-type {\n        vertical-align: middle;\n    }\n\n    .dataframe tbody tr th {\n        vertical-align: top;\n    }\n\n    .dataframe thead th {\n        text-align: right;\n    }\n</style>\n<table border=\"1\" class=\"dataframe\">\n  <thead>\n    <tr style=\"text-align: right;\">\n      <th></th>\n      <th>iso2</th>\n      <th>year</th>\n      <th>Cases</th>\n      <th>sex</th>\n      <th>age</th>\n    </tr>\n  </thead>\n  <tbody>\n    <tr>\n      <th>0</th>\n      <td>AD</td>\n      <td>1996</td>\n      <td>0.0</td>\n      <td>f</td>\n      <td>0-14</td>\n    </tr>\n    <tr>\n      <th>1</th>\n      <td>AD</td>\n      <td>1996</td>\n      <td>1.0</td>\n      <td>f</td>\n      <td>15-24</td>\n    </tr>\n    <tr>\n      <th>2</th>\n      <td>AD</td>\n      <td>1996</td>\n      <td>1.0</td>\n      <td>f</td>\n      <td>25-34</td>\n    </tr>\n    <tr>\n      <th>3</th>\n      <td>AD</td>\n      <td>1996</td>\n      <td>0.0</td>\n      <td>f</td>\n      <td>35-44</td>\n    </tr>\n    <tr>\n      <th>4</th>\n      <td>AD</td>\n      <td>1996</td>\n      <td>0.0</td>\n      <td>f</td>\n      <td>45-54</td>\n    </tr>\n    <tr>\n      <th>...</th>\n      <td>...</td>\n      <td>...</td>\n      <td>...</td>\n      <td>...</td>\n      <td>...</td>\n    </tr>\n    <tr>\n      <th>34155</th>\n      <td>NaN</td>\n      <td>2008</td>\n      <td>757.0</td>\n      <td>m</td>\n      <td>35-44</td>\n    </tr>\n    <tr>\n      <th>34156</th>\n      <td>NaN</td>\n      <td>2008</td>\n      <td>346.0</td>\n      <td>m</td>\n      <td>45-54</td>\n    </tr>\n    <tr>\n      <th>34157</th>\n      <td>NaN</td>\n      <td>2008</td>\n      <td>149.0</td>\n      <td>m</td>\n      <td>55-64</td>\n    </tr>\n    <tr>\n      <th>34158</th>\n      <td>NaN</td>\n      <td>2008</td>\n      <td>132.0</td>\n      <td>m</td>\n      <td>65</td>\n    </tr>\n    <tr>\n      <th>34159</th>\n      <td>NaN</td>\n      <td>2008</td>\n      <td>0.0</td>\n      <td>m</td>\n      <td>unknown</td>\n    </tr>\n  </tbody>\n</table>\n<p>34160 rows × 5 columns</p>\n</div>"
     },
     "execution_count": 1,
     "metadata": {},
     "output_type": "execute_result"
    }
   ],
   "source": [
    "import numpy as np\n",
    "import pandas as pd\n",
    "\n",
    "#Seting directory of original data\n",
    "directory = \"C:\\Program Files\\Studia/5 semestr\\AiBD\\lab1\\laboratorium_5\\OriginalData/tb.csv\"\n",
    "tb = pd.read_csv(directory)\n",
    "\n",
    "#Renaming columns\n",
    "tb.rename(columns={'new_sp_m014': 'm|0-14', 'new_sp_m1524': 'm|15-24', 'new_sp_m2534': 'm|25-34', 'new_sp_m3544': 'm|35-44', 'new_sp_m4554': 'm|45-54', 'new_sp_m5564': 'm|55-64', 'new_sp_m65': 'm|65', 'new_sp_mu': 'm|unknown',\n",
    "'new_sp_f014': 'f|0-14', 'new_sp_f1524': 'f|15-24', 'new_sp_f2534': 'f|25-34', 'new_sp_f3544': 'f|35-44', 'new_sp_f4554': 'f|45-54', 'new_sp_f5564': 'f|55-64', 'new_sp_f65': 'f|65', 'new_sp_fu': 'f|unknown'}, inplace=True)\n",
    "\n",
    "#Droping columns with unnecessary data\n",
    "tb.drop(columns=['new_sp', 'new_sp_m04', 'new_sp_m514', 'new_sp_f04', 'new_sp_f514'], inplace=True)\n",
    "\n",
    "#Melting\n",
    "\n",
    "melted = pd.melt(tb, id_vars =['iso2', 'year'], value_vars =tb.columns[2:], value_name = 'Cases', var_name= 'temp')\n",
    "melted = melted.dropna(subset = ['Cases'])\n",
    "melted[['sex', 'age']] = melted['temp'].str.split('|', expand=True)\n",
    "melted.drop(columns=['temp'], inplace=True)\n",
    "melted = melted.sort_values(by=['iso2', 'year', 'sex', 'age'])\n",
    "result = melted.reset_index(drop = True)\n",
    "result.to_csv(\"C:\\Program Files\\Studia/5 semestr\\AiBD\\lab1\\laboratorium_5\\AnalysisData/tb.csv\")\n",
    "result"
   ],
   "metadata": {
    "collapsed": false
   }
  }
 ],
 "metadata": {
  "kernelspec": {
   "display_name": "Python 3",
   "language": "python",
   "name": "python3"
  },
  "language_info": {
   "codemirror_mode": {
    "name": "ipython",
    "version": 2
   },
   "file_extension": ".py",
   "mimetype": "text/x-python",
   "name": "python",
   "nbconvert_exporter": "python",
   "pygments_lexer": "ipython2",
   "version": "2.7.6"
  }
 },
 "nbformat": 4,
 "nbformat_minor": 0
}
